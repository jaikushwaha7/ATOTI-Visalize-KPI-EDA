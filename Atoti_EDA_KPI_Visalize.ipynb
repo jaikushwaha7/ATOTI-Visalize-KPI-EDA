{
 "cells": [
  {
   "cell_type": "code",
   "execution_count": 1,
   "metadata": {},
   "outputs": [],
   "source": [
    "# Create session\n",
    "import atoti as tt\n",
    "\n",
    "session = tt.create_session()"
   ]
  },
  {
   "cell_type": "code",
   "execution_count": 2,
   "metadata": {},
   "outputs": [
    {
     "name": "stderr",
     "output_type": "stream",
     "text": [
      "The store has been sampled because there are more than 10000 lines in the files to load and the appended lines. Call Session.load_all_data() to trigger the full load of the data.\n"
     ]
    }
   ],
   "source": [
    "sales_store = session.read_csv('FL_insurance_sample.csv', keys = ['policyID'])"
   ]
  },
  {
   "cell_type": "code",
   "execution_count": 3,
   "metadata": {},
   "outputs": [
    {
     "name": "stderr",
     "output_type": "stream",
     "text": [
      "22 error(s) occurred while feeding the store Fl_insurance_sample. Check the store's loading_report for more details.\n"
     ]
    },
    {
     "data": {
      "text/html": [
       "<div>\n",
       "<style scoped>\n",
       "    .dataframe tbody tr th:only-of-type {\n",
       "        vertical-align: middle;\n",
       "    }\n",
       "\n",
       "    .dataframe tbody tr th {\n",
       "        vertical-align: top;\n",
       "    }\n",
       "\n",
       "    .dataframe thead th {\n",
       "        text-align: right;\n",
       "    }\n",
       "</style>\n",
       "<table border=\"1\" class=\"dataframe\">\n",
       "  <thead>\n",
       "    <tr style=\"text-align: right;\">\n",
       "      <th></th>\n",
       "      <th>statecode</th>\n",
       "      <th>county</th>\n",
       "      <th>eq_site_limit</th>\n",
       "      <th>hu_site_limit</th>\n",
       "      <th>fl_site_limit</th>\n",
       "      <th>fr_site_limit</th>\n",
       "      <th>tiv_2011</th>\n",
       "      <th>tiv_2012</th>\n",
       "      <th>eq_site_deductible</th>\n",
       "      <th>hu_site_deductible</th>\n",
       "      <th>fl_site_deductible</th>\n",
       "      <th>fr_site_deductible</th>\n",
       "      <th>point_latitude</th>\n",
       "      <th>point_longitude</th>\n",
       "      <th>line</th>\n",
       "      <th>construction</th>\n",
       "      <th>point_granularity</th>\n",
       "    </tr>\n",
       "    <tr>\n",
       "      <th>policyID</th>\n",
       "      <th></th>\n",
       "      <th></th>\n",
       "      <th></th>\n",
       "      <th></th>\n",
       "      <th></th>\n",
       "      <th></th>\n",
       "      <th></th>\n",
       "      <th></th>\n",
       "      <th></th>\n",
       "      <th></th>\n",
       "      <th></th>\n",
       "      <th></th>\n",
       "      <th></th>\n",
       "      <th></th>\n",
       "      <th></th>\n",
       "      <th></th>\n",
       "      <th></th>\n",
       "    </tr>\n",
       "  </thead>\n",
       "  <tbody>\n",
       "    <tr>\n",
       "      <th>119736</th>\n",
       "      <td>FL</td>\n",
       "      <td>CLAY COUNTY</td>\n",
       "      <td>498960.0</td>\n",
       "      <td>498960.00</td>\n",
       "      <td>498960.0</td>\n",
       "      <td>498960.0</td>\n",
       "      <td>498960.00</td>\n",
       "      <td>792148.90</td>\n",
       "      <td>0.0</td>\n",
       "      <td>9979.2</td>\n",
       "      <td>0</td>\n",
       "      <td>0</td>\n",
       "      <td>30.102261</td>\n",
       "      <td>-81.711777</td>\n",
       "      <td>Residential</td>\n",
       "      <td>Masonry</td>\n",
       "      <td>1</td>\n",
       "    </tr>\n",
       "    <tr>\n",
       "      <th>448094</th>\n",
       "      <td>FL</td>\n",
       "      <td>CLAY COUNTY</td>\n",
       "      <td>1322376.3</td>\n",
       "      <td>1322376.30</td>\n",
       "      <td>1322376.3</td>\n",
       "      <td>1322376.3</td>\n",
       "      <td>1322376.30</td>\n",
       "      <td>1438163.57</td>\n",
       "      <td>0.0</td>\n",
       "      <td>0.0</td>\n",
       "      <td>0</td>\n",
       "      <td>0</td>\n",
       "      <td>30.063936</td>\n",
       "      <td>-81.707664</td>\n",
       "      <td>Residential</td>\n",
       "      <td>Masonry</td>\n",
       "      <td>3</td>\n",
       "    </tr>\n",
       "    <tr>\n",
       "      <th>206893</th>\n",
       "      <td>FL</td>\n",
       "      <td>CLAY COUNTY</td>\n",
       "      <td>190724.4</td>\n",
       "      <td>190724.40</td>\n",
       "      <td>190724.4</td>\n",
       "      <td>190724.4</td>\n",
       "      <td>190724.40</td>\n",
       "      <td>192476.78</td>\n",
       "      <td>0.0</td>\n",
       "      <td>0.0</td>\n",
       "      <td>0</td>\n",
       "      <td>0</td>\n",
       "      <td>30.089579</td>\n",
       "      <td>-81.700455</td>\n",
       "      <td>Residential</td>\n",
       "      <td>Wood</td>\n",
       "      <td>1</td>\n",
       "    </tr>\n",
       "    <tr>\n",
       "      <th>333743</th>\n",
       "      <td>FL</td>\n",
       "      <td>CLAY COUNTY</td>\n",
       "      <td>0.0</td>\n",
       "      <td>79520.76</td>\n",
       "      <td>0.0</td>\n",
       "      <td>0.0</td>\n",
       "      <td>79520.76</td>\n",
       "      <td>86854.48</td>\n",
       "      <td>0.0</td>\n",
       "      <td>0.0</td>\n",
       "      <td>0</td>\n",
       "      <td>0</td>\n",
       "      <td>30.063236</td>\n",
       "      <td>-81.707703</td>\n",
       "      <td>Residential</td>\n",
       "      <td>Wood</td>\n",
       "      <td>3</td>\n",
       "    </tr>\n",
       "    <tr>\n",
       "      <th>172534</th>\n",
       "      <td>FL</td>\n",
       "      <td>CLAY COUNTY</td>\n",
       "      <td>0.0</td>\n",
       "      <td>254281.50</td>\n",
       "      <td>0.0</td>\n",
       "      <td>254281.5</td>\n",
       "      <td>254281.50</td>\n",
       "      <td>246144.49</td>\n",
       "      <td>0.0</td>\n",
       "      <td>0.0</td>\n",
       "      <td>0</td>\n",
       "      <td>0</td>\n",
       "      <td>30.060614</td>\n",
       "      <td>-81.702675</td>\n",
       "      <td>Residential</td>\n",
       "      <td>Wood</td>\n",
       "      <td>1</td>\n",
       "    </tr>\n",
       "  </tbody>\n",
       "</table>\n",
       "</div>"
      ],
      "text/plain": [
       "         statecode       county  eq_site_limit  hu_site_limit  fl_site_limit  \\\n",
       "policyID                                                                       \n",
       "119736          FL  CLAY COUNTY       498960.0      498960.00       498960.0   \n",
       "448094          FL  CLAY COUNTY      1322376.3     1322376.30      1322376.3   \n",
       "206893          FL  CLAY COUNTY       190724.4      190724.40       190724.4   \n",
       "333743          FL  CLAY COUNTY            0.0       79520.76            0.0   \n",
       "172534          FL  CLAY COUNTY            0.0      254281.50            0.0   \n",
       "\n",
       "          fr_site_limit    tiv_2011    tiv_2012  eq_site_deductible  \\\n",
       "policyID                                                              \n",
       "119736         498960.0   498960.00   792148.90                 0.0   \n",
       "448094        1322376.3  1322376.30  1438163.57                 0.0   \n",
       "206893         190724.4   190724.40   192476.78                 0.0   \n",
       "333743              0.0    79520.76    86854.48                 0.0   \n",
       "172534         254281.5   254281.50   246144.49                 0.0   \n",
       "\n",
       "          hu_site_deductible  fl_site_deductible  fr_site_deductible  \\\n",
       "policyID                                                               \n",
       "119736                9979.2                   0                   0   \n",
       "448094                   0.0                   0                   0   \n",
       "206893                   0.0                   0                   0   \n",
       "333743                   0.0                   0                   0   \n",
       "172534                   0.0                   0                   0   \n",
       "\n",
       "          point_latitude  point_longitude         line construction  \\\n",
       "policyID                                                              \n",
       "119736         30.102261       -81.711777  Residential      Masonry   \n",
       "448094         30.063936       -81.707664  Residential      Masonry   \n",
       "206893         30.089579       -81.700455  Residential         Wood   \n",
       "333743         30.063236       -81.707703  Residential         Wood   \n",
       "172534         30.060614       -81.702675  Residential         Wood   \n",
       "\n",
       "          point_granularity  \n",
       "policyID                     \n",
       "119736                    1  \n",
       "448094                    3  \n",
       "206893                    1  \n",
       "333743                    3  \n",
       "172534                    1  "
      ]
     },
     "execution_count": 3,
     "metadata": {},
     "output_type": "execute_result"
    }
   ],
   "source": [
    "sales_store.head()"
   ]
  },
  {
   "cell_type": "code",
   "execution_count": 11,
   "metadata": {},
   "outputs": [
    {
     "ename": "AttributeError",
     "evalue": "'Store' object has no attribute 'describe'",
     "output_type": "error",
     "traceback": [
      "\u001b[1;31m---------------------------------------------------------------------------\u001b[0m",
      "\u001b[1;31mAttributeError\u001b[0m                            Traceback (most recent call last)",
      "\u001b[1;32m<ipython-input-11-b10b029e172f>\u001b[0m in \u001b[0;36m<module>\u001b[1;34m\u001b[0m\n\u001b[1;32m----> 1\u001b[1;33m \u001b[0msales_store\u001b[0m\u001b[1;33m.\u001b[0m\u001b[0mdescribe\u001b[0m\u001b[1;33m(\u001b[0m\u001b[1;33m)\u001b[0m\u001b[1;33m\u001b[0m\u001b[1;33m\u001b[0m\u001b[0m\n\u001b[0m",
      "\u001b[1;31mAttributeError\u001b[0m: 'Store' object has no attribute 'describe'"
     ]
    }
   ],
   "source": []
  },
  {
   "cell_type": "code",
   "execution_count": 4,
   "metadata": {},
   "outputs": [
    {
     "name": "stderr",
     "output_type": "stream",
     "text": [
      "22 error(s) occurred while feeding the store Fl_insurance_sample. Check the store's loading_report for more details.\n"
     ]
    }
   ],
   "source": [
    "cube = session.create_cube(sales_store)"
   ]
  },
  {
   "cell_type": "code",
   "execution_count": 5,
   "metadata": {},
   "outputs": [
    {
     "data": {
      "application/json": {
       "Dimensions": {
        "Fl_insurance_sample": {
         "construction": [
          "construction"
         ],
         "county": [
          "county"
         ],
         "fl_site_deductible": [
          "fl_site_deductible"
         ],
         "fr_site_deductible": [
          "fr_site_deductible"
         ],
         "line": [
          "line"
         ],
         "point_granularity": [
          "point_granularity"
         ],
         "policyID": [
          "policyID"
         ],
         "statecode": [
          "statecode"
         ]
        }
       },
       "Measures": {
        "contributors.COUNT": {
         "formatter": "INT[#,###]"
        },
        "eq_site_deductible.MEAN": {
         "formatter": "DOUBLE[#,###.00]"
        },
        "eq_site_deductible.SUM": {
         "formatter": "DOUBLE[#,###.00]"
        },
        "eq_site_limit.MEAN": {
         "formatter": "DOUBLE[#,###.00]"
        },
        "eq_site_limit.SUM": {
         "formatter": "DOUBLE[#,###.00]"
        },
        "fl_site_limit.MEAN": {
         "formatter": "DOUBLE[#,###.00]"
        },
        "fl_site_limit.SUM": {
         "formatter": "DOUBLE[#,###.00]"
        },
        "fr_site_limit.MEAN": {
         "formatter": "DOUBLE[#,###.00]"
        },
        "fr_site_limit.SUM": {
         "formatter": "DOUBLE[#,###.00]"
        },
        "hu_site_deductible.MEAN": {
         "formatter": "DOUBLE[#,###.00]"
        },
        "hu_site_deductible.SUM": {
         "formatter": "DOUBLE[#,###.00]"
        },
        "hu_site_limit.MEAN": {
         "formatter": "DOUBLE[#,###.00]"
        },
        "hu_site_limit.SUM": {
         "formatter": "DOUBLE[#,###.00]"
        },
        "point_latitude.MEAN": {
         "formatter": "DOUBLE[#,###.00]"
        },
        "point_latitude.SUM": {
         "formatter": "DOUBLE[#,###.00]"
        },
        "point_longitude.MEAN": {
         "formatter": "DOUBLE[#,###.00]"
        },
        "point_longitude.SUM": {
         "formatter": "DOUBLE[#,###.00]"
        },
        "tiv_2011.MEAN": {
         "formatter": "DOUBLE[#,###.00]"
        },
        "tiv_2011.SUM": {
         "formatter": "DOUBLE[#,###.00]"
        },
        "tiv_2012.MEAN": {
         "formatter": "DOUBLE[#,###.00]"
        },
        "tiv_2012.SUM": {
         "formatter": "DOUBLE[#,###.00]"
        }
       }
      },
      "text/html": [
       "<ul>\n",
       "<li>Fl_insurance_sample\n",
       "  <ul>\n",
       "  <li>Dimensions\n",
       "    <ul>\n",
       "    <li>Fl_insurance_sample\n",
       "      <ul>\n",
       "      <li>construction\n",
       "        <ol>\n",
       "        <li>construction</li>\n",
       "        </ol>      </li>\n",
       "      <li>county\n",
       "        <ol>\n",
       "        <li>county</li>\n",
       "        </ol>      </li>\n",
       "      <li>fl_site_deductible\n",
       "        <ol>\n",
       "        <li>fl_site_deductible</li>\n",
       "        </ol>      </li>\n",
       "      <li>fr_site_deductible\n",
       "        <ol>\n",
       "        <li>fr_site_deductible</li>\n",
       "        </ol>      </li>\n",
       "      <li>line\n",
       "        <ol>\n",
       "        <li>line</li>\n",
       "        </ol>      </li>\n",
       "      <li>point_granularity\n",
       "        <ol>\n",
       "        <li>point_granularity</li>\n",
       "        </ol>      </li>\n",
       "      <li>policyID\n",
       "        <ol>\n",
       "        <li>policyID</li>\n",
       "        </ol>      </li>\n",
       "      <li>statecode\n",
       "        <ol>\n",
       "        <li>statecode</li>\n",
       "        </ol>      </li>\n",
       "      </ul>\n",
       "    </li>\n",
       "    </ul>\n",
       "  </li>\n",
       "  <li>Measures\n",
       "    <ul>\n",
       "    <li>contributors.COUNT\n",
       "      <ul>\n",
       "      <li>formatter: INT[#,###]</li>\n",
       "      </ul>\n",
       "    </li>\n",
       "    <li>eq_site_deductible.MEAN\n",
       "      <ul>\n",
       "      <li>formatter: DOUBLE[#,###.00]</li>\n",
       "      </ul>\n",
       "    </li>\n",
       "    <li>eq_site_deductible.SUM\n",
       "      <ul>\n",
       "      <li>formatter: DOUBLE[#,###.00]</li>\n",
       "      </ul>\n",
       "    </li>\n",
       "    <li>eq_site_limit.MEAN\n",
       "      <ul>\n",
       "      <li>formatter: DOUBLE[#,###.00]</li>\n",
       "      </ul>\n",
       "    </li>\n",
       "    <li>eq_site_limit.SUM\n",
       "      <ul>\n",
       "      <li>formatter: DOUBLE[#,###.00]</li>\n",
       "      </ul>\n",
       "    </li>\n",
       "    <li>fl_site_limit.MEAN\n",
       "      <ul>\n",
       "      <li>formatter: DOUBLE[#,###.00]</li>\n",
       "      </ul>\n",
       "    </li>\n",
       "    <li>fl_site_limit.SUM\n",
       "      <ul>\n",
       "      <li>formatter: DOUBLE[#,###.00]</li>\n",
       "      </ul>\n",
       "    </li>\n",
       "    <li>fr_site_limit.MEAN\n",
       "      <ul>\n",
       "      <li>formatter: DOUBLE[#,###.00]</li>\n",
       "      </ul>\n",
       "    </li>\n",
       "    <li>fr_site_limit.SUM\n",
       "      <ul>\n",
       "      <li>formatter: DOUBLE[#,###.00]</li>\n",
       "      </ul>\n",
       "    </li>\n",
       "    <li>hu_site_deductible.MEAN\n",
       "      <ul>\n",
       "      <li>formatter: DOUBLE[#,###.00]</li>\n",
       "      </ul>\n",
       "    </li>\n",
       "    <li>hu_site_deductible.SUM\n",
       "      <ul>\n",
       "      <li>formatter: DOUBLE[#,###.00]</li>\n",
       "      </ul>\n",
       "    </li>\n",
       "    <li>hu_site_limit.MEAN\n",
       "      <ul>\n",
       "      <li>formatter: DOUBLE[#,###.00]</li>\n",
       "      </ul>\n",
       "    </li>\n",
       "    <li>hu_site_limit.SUM\n",
       "      <ul>\n",
       "      <li>formatter: DOUBLE[#,###.00]</li>\n",
       "      </ul>\n",
       "    </li>\n",
       "    <li>point_latitude.MEAN\n",
       "      <ul>\n",
       "      <li>formatter: DOUBLE[#,###.00]</li>\n",
       "      </ul>\n",
       "    </li>\n",
       "    <li>point_latitude.SUM\n",
       "      <ul>\n",
       "      <li>formatter: DOUBLE[#,###.00]</li>\n",
       "      </ul>\n",
       "    </li>\n",
       "    <li>point_longitude.MEAN\n",
       "      <ul>\n",
       "      <li>formatter: DOUBLE[#,###.00]</li>\n",
       "      </ul>\n",
       "    </li>\n",
       "    <li>point_longitude.SUM\n",
       "      <ul>\n",
       "      <li>formatter: DOUBLE[#,###.00]</li>\n",
       "      </ul>\n",
       "    </li>\n",
       "    <li>tiv_2011.MEAN\n",
       "      <ul>\n",
       "      <li>formatter: DOUBLE[#,###.00]</li>\n",
       "      </ul>\n",
       "    </li>\n",
       "    <li>tiv_2011.SUM\n",
       "      <ul>\n",
       "      <li>formatter: DOUBLE[#,###.00]</li>\n",
       "      </ul>\n",
       "    </li>\n",
       "    <li>tiv_2012.MEAN\n",
       "      <ul>\n",
       "      <li>formatter: DOUBLE[#,###.00]</li>\n",
       "      </ul>\n",
       "    </li>\n",
       "    <li>tiv_2012.SUM\n",
       "      <ul>\n",
       "      <li>formatter: DOUBLE[#,###.00]</li>\n",
       "      </ul>\n",
       "    </li>\n",
       "    </ul>\n",
       "  </li>\n",
       "  </ul>\n",
       "</li>\n",
       "</ul>\n"
      ],
      "text/plain": [
       "Cube(_name='Fl_insurance_sample', _hierarchies=Hierarchies(), _measures=Measures())"
      ]
     },
     "execution_count": 5,
     "metadata": {
      "application/json": {
       "expanded": false,
       "root": "Fl_insurance_sample"
      }
     },
     "output_type": "execute_result"
    }
   ],
   "source": [
    "cube"
   ]
  },
  {
   "cell_type": "code",
   "execution_count": 7,
   "metadata": {},
   "outputs": [
    {
     "data": {
      "application/vnd.atoti.widget.v0+json": {
       "name": null,
       "session": "Unnamed"
      },
      "text/plain": [
       "Open the notebook in JupyterLab with the atoti extension installed and enabled to start editing this widget."
      ]
     },
     "metadata": {},
     "output_type": "display_data"
    }
   ],
   "source": [
    "session.visualize()"
   ]
  },
  {
   "cell_type": "code",
   "execution_count": 8,
   "metadata": {},
   "outputs": [
    {
     "data": {
      "text/plain": [
       "'http://localhost:57381'"
      ]
     },
     "execution_count": 8,
     "metadata": {},
     "output_type": "execute_result"
    }
   ],
   "source": [
    "session.url"
   ]
  },
  {
   "cell_type": "code",
   "execution_count": 12,
   "metadata": {},
   "outputs": [],
   "source": [
    "import pandas as pd\n",
    "sales = pd.read_csv('FL_insurance_sample.csv')"
   ]
  },
  {
   "cell_type": "code",
   "execution_count": 13,
   "metadata": {},
   "outputs": [
    {
     "name": "stdout",
     "output_type": "stream",
     "text": [
      "<class 'pandas.core.frame.DataFrame'>\n",
      "RangeIndex: 36634 entries, 0 to 36633\n",
      "Data columns (total 18 columns):\n",
      " #   Column              Non-Null Count  Dtype  \n",
      "---  ------              --------------  -----  \n",
      " 0   policyID            36634 non-null  int64  \n",
      " 1   statecode           36634 non-null  object \n",
      " 2   county              36634 non-null  object \n",
      " 3   eq_site_limit       36634 non-null  float64\n",
      " 4   hu_site_limit       36600 non-null  float64\n",
      " 5   fl_site_limit       36632 non-null  float64\n",
      " 6   fr_site_limit       36634 non-null  float64\n",
      " 7   tiv_2011            36593 non-null  float64\n",
      " 8   tiv_2012            36571 non-null  float64\n",
      " 9   eq_site_deductible  36629 non-null  float64\n",
      " 10  hu_site_deductible  36633 non-null  float64\n",
      " 11  fl_site_deductible  36634 non-null  float64\n",
      " 12  fr_site_deductible  36634 non-null  int64  \n",
      " 13  point_latitude      36540 non-null  float64\n",
      " 14  point_longitude     36634 non-null  float64\n",
      " 15  line                36634 non-null  object \n",
      " 16  construction        36634 non-null  object \n",
      " 17  point_granularity   36634 non-null  int64  \n",
      "dtypes: float64(11), int64(3), object(4)\n",
      "memory usage: 5.0+ MB\n"
     ]
    }
   ],
   "source": [
    "sales.info()"
   ]
  },
  {
   "cell_type": "code",
   "execution_count": 14,
   "metadata": {},
   "outputs": [
    {
     "data": {
      "application/json": {
       "Fl_insurance_sample": {
        "construction": [
         "construction"
        ],
        "county": [
         "county"
        ],
        "fl_site_deductible": [
         "fl_site_deductible"
        ],
        "fr_site_deductible": [
         "fr_site_deductible"
        ],
        "line": [
         "line"
        ],
        "point_granularity": [
         "point_granularity"
        ],
        "policyID": [
         "policyID"
        ],
        "statecode": [
         "statecode"
        ]
       }
      },
      "text/html": [
       "<ul>\n",
       "<li>Dimensions\n",
       "  <ul>\n",
       "  <li>Fl_insurance_sample\n",
       "    <ul>\n",
       "    <li>construction\n",
       "      <ol>\n",
       "      <li>construction</li>\n",
       "      </ol>    </li>\n",
       "    <li>county\n",
       "      <ol>\n",
       "      <li>county</li>\n",
       "      </ol>    </li>\n",
       "    <li>fl_site_deductible\n",
       "      <ol>\n",
       "      <li>fl_site_deductible</li>\n",
       "      </ol>    </li>\n",
       "    <li>fr_site_deductible\n",
       "      <ol>\n",
       "      <li>fr_site_deductible</li>\n",
       "      </ol>    </li>\n",
       "    <li>line\n",
       "      <ol>\n",
       "      <li>line</li>\n",
       "      </ol>    </li>\n",
       "    <li>point_granularity\n",
       "      <ol>\n",
       "      <li>point_granularity</li>\n",
       "      </ol>    </li>\n",
       "    <li>policyID\n",
       "      <ol>\n",
       "      <li>policyID</li>\n",
       "      </ol>    </li>\n",
       "    <li>statecode\n",
       "      <ol>\n",
       "      <li>statecode</li>\n",
       "      </ol>    </li>\n",
       "    </ul>\n",
       "  </li>\n",
       "  </ul>\n",
       "</li>\n",
       "</ul>\n"
      ],
      "text/plain": [
       "Hierarchies()"
      ]
     },
     "execution_count": 14,
     "metadata": {
      "application/json": {
       "expanded": true,
       "root": "Dimensions"
      }
     },
     "output_type": "execute_result"
    }
   ],
   "source": [
    "# Aliasing the hierarchies property to a shorter variable name because we will use it a lot.\n",
    "h = cube.hierarchies\n",
    "h\n"
   ]
  },
  {
   "cell_type": "code",
   "execution_count": 15,
   "metadata": {},
   "outputs": [],
   "source": [
    "l = cube.levels"
   ]
  },
  {
   "cell_type": "code",
   "execution_count": 16,
   "metadata": {},
   "outputs": [
    {
     "data": {
      "application/json": {
       "contributors.COUNT": {
        "formatter": "INT[#,###]"
       },
       "eq_site_deductible.MEAN": {
        "formatter": "DOUBLE[#,###.00]"
       },
       "eq_site_deductible.SUM": {
        "formatter": "DOUBLE[#,###.00]"
       },
       "eq_site_limit.MEAN": {
        "formatter": "DOUBLE[#,###.00]"
       },
       "eq_site_limit.SUM": {
        "formatter": "DOUBLE[#,###.00]"
       },
       "fl_site_limit.MEAN": {
        "formatter": "DOUBLE[#,###.00]"
       },
       "fl_site_limit.SUM": {
        "formatter": "DOUBLE[#,###.00]"
       },
       "fr_site_limit.MEAN": {
        "formatter": "DOUBLE[#,###.00]"
       },
       "fr_site_limit.SUM": {
        "formatter": "DOUBLE[#,###.00]"
       },
       "hu_site_deductible.MEAN": {
        "formatter": "DOUBLE[#,###.00]"
       },
       "hu_site_deductible.SUM": {
        "formatter": "DOUBLE[#,###.00]"
       },
       "hu_site_limit.MEAN": {
        "formatter": "DOUBLE[#,###.00]"
       },
       "hu_site_limit.SUM": {
        "formatter": "DOUBLE[#,###.00]"
       },
       "point_latitude.MEAN": {
        "formatter": "DOUBLE[#,###.00]"
       },
       "point_latitude.SUM": {
        "formatter": "DOUBLE[#,###.00]"
       },
       "point_longitude.MEAN": {
        "formatter": "DOUBLE[#,###.00]"
       },
       "point_longitude.SUM": {
        "formatter": "DOUBLE[#,###.00]"
       },
       "tiv_2011.MEAN": {
        "formatter": "DOUBLE[#,###.00]"
       },
       "tiv_2011.SUM": {
        "formatter": "DOUBLE[#,###.00]"
       },
       "tiv_2012.MEAN": {
        "formatter": "DOUBLE[#,###.00]"
       },
       "tiv_2012.SUM": {
        "formatter": "DOUBLE[#,###.00]"
       }
      },
      "text/html": [
       "<ul>\n",
       "<li>Measures\n",
       "  <ul>\n",
       "  <li>contributors.COUNT\n",
       "    <ul>\n",
       "    <li>formatter: INT[#,###]</li>\n",
       "    </ul>\n",
       "  </li>\n",
       "  <li>eq_site_deductible.MEAN\n",
       "    <ul>\n",
       "    <li>formatter: DOUBLE[#,###.00]</li>\n",
       "    </ul>\n",
       "  </li>\n",
       "  <li>eq_site_deductible.SUM\n",
       "    <ul>\n",
       "    <li>formatter: DOUBLE[#,###.00]</li>\n",
       "    </ul>\n",
       "  </li>\n",
       "  <li>eq_site_limit.MEAN\n",
       "    <ul>\n",
       "    <li>formatter: DOUBLE[#,###.00]</li>\n",
       "    </ul>\n",
       "  </li>\n",
       "  <li>eq_site_limit.SUM\n",
       "    <ul>\n",
       "    <li>formatter: DOUBLE[#,###.00]</li>\n",
       "    </ul>\n",
       "  </li>\n",
       "  <li>fl_site_limit.MEAN\n",
       "    <ul>\n",
       "    <li>formatter: DOUBLE[#,###.00]</li>\n",
       "    </ul>\n",
       "  </li>\n",
       "  <li>fl_site_limit.SUM\n",
       "    <ul>\n",
       "    <li>formatter: DOUBLE[#,###.00]</li>\n",
       "    </ul>\n",
       "  </li>\n",
       "  <li>fr_site_limit.MEAN\n",
       "    <ul>\n",
       "    <li>formatter: DOUBLE[#,###.00]</li>\n",
       "    </ul>\n",
       "  </li>\n",
       "  <li>fr_site_limit.SUM\n",
       "    <ul>\n",
       "    <li>formatter: DOUBLE[#,###.00]</li>\n",
       "    </ul>\n",
       "  </li>\n",
       "  <li>hu_site_deductible.MEAN\n",
       "    <ul>\n",
       "    <li>formatter: DOUBLE[#,###.00]</li>\n",
       "    </ul>\n",
       "  </li>\n",
       "  <li>hu_site_deductible.SUM\n",
       "    <ul>\n",
       "    <li>formatter: DOUBLE[#,###.00]</li>\n",
       "    </ul>\n",
       "  </li>\n",
       "  <li>hu_site_limit.MEAN\n",
       "    <ul>\n",
       "    <li>formatter: DOUBLE[#,###.00]</li>\n",
       "    </ul>\n",
       "  </li>\n",
       "  <li>hu_site_limit.SUM\n",
       "    <ul>\n",
       "    <li>formatter: DOUBLE[#,###.00]</li>\n",
       "    </ul>\n",
       "  </li>\n",
       "  <li>point_latitude.MEAN\n",
       "    <ul>\n",
       "    <li>formatter: DOUBLE[#,###.00]</li>\n",
       "    </ul>\n",
       "  </li>\n",
       "  <li>point_latitude.SUM\n",
       "    <ul>\n",
       "    <li>formatter: DOUBLE[#,###.00]</li>\n",
       "    </ul>\n",
       "  </li>\n",
       "  <li>point_longitude.MEAN\n",
       "    <ul>\n",
       "    <li>formatter: DOUBLE[#,###.00]</li>\n",
       "    </ul>\n",
       "  </li>\n",
       "  <li>point_longitude.SUM\n",
       "    <ul>\n",
       "    <li>formatter: DOUBLE[#,###.00]</li>\n",
       "    </ul>\n",
       "  </li>\n",
       "  <li>tiv_2011.MEAN\n",
       "    <ul>\n",
       "    <li>formatter: DOUBLE[#,###.00]</li>\n",
       "    </ul>\n",
       "  </li>\n",
       "  <li>tiv_2011.SUM\n",
       "    <ul>\n",
       "    <li>formatter: DOUBLE[#,###.00]</li>\n",
       "    </ul>\n",
       "  </li>\n",
       "  <li>tiv_2012.MEAN\n",
       "    <ul>\n",
       "    <li>formatter: DOUBLE[#,###.00]</li>\n",
       "    </ul>\n",
       "  </li>\n",
       "  <li>tiv_2012.SUM\n",
       "    <ul>\n",
       "    <li>formatter: DOUBLE[#,###.00]</li>\n",
       "    </ul>\n",
       "  </li>\n",
       "  </ul>\n",
       "</li>\n",
       "</ul>\n"
      ],
      "text/plain": [
       "Measures()"
      ]
     },
     "execution_count": 16,
     "metadata": {
      "application/json": {
       "expanded": false,
       "root": "Measures"
      }
     },
     "output_type": "execute_result"
    }
   ],
   "source": [
    "m = cube.measures\n",
    "m"
   ]
  },
  {
   "cell_type": "code",
   "execution_count": null,
   "metadata": {},
   "outputs": [],
   "source": []
  },
  {
   "cell_type": "code",
   "execution_count": null,
   "metadata": {},
   "outputs": [],
   "source": []
  },
  {
   "cell_type": "code",
   "execution_count": null,
   "metadata": {},
   "outputs": [],
   "source": []
  },
  {
   "cell_type": "code",
   "execution_count": null,
   "metadata": {},
   "outputs": [],
   "source": []
  },
  {
   "cell_type": "code",
   "execution_count": null,
   "metadata": {},
   "outputs": [],
   "source": []
  }
 ],
 "metadata": {
  "kernelspec": {
   "display_name": "Python 3",
   "language": "python",
   "name": "python3"
  },
  "language_info": {
   "codemirror_mode": {
    "name": "ipython",
    "version": 3
   },
   "file_extension": ".py",
   "mimetype": "text/x-python",
   "name": "python",
   "nbconvert_exporter": "python",
   "pygments_lexer": "ipython3",
   "version": "3.7.6"
  }
 },
 "nbformat": 4,
 "nbformat_minor": 4
}
